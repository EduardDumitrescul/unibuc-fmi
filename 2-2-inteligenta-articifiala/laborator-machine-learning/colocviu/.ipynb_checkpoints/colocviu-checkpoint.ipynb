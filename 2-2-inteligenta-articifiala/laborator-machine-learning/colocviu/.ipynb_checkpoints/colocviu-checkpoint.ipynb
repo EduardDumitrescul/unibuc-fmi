{
 "cells": [
  {
   "cell_type": "code",
   "execution_count": 36,
   "id": "b203e943a6e65975",
   "metadata": {
    "ExecuteTime": {
     "end_time": "2024-06-08T09:06:10.800008Z",
     "start_time": "2024-06-08T09:06:09.748645Z"
    }
   },
   "outputs": [
    {
     "name": "stdout",
     "output_type": "stream",
     "text": [
      "(1000, 140, 3)\n",
      "(1000, 140, 3)\n"
     ]
    }
   ],
   "source": [
    "import numpy as np\n",
    "\n",
    "train_filenames = []\n",
    "train_labels = []\n",
    "\n",
    "with open(\"V1/train.txt\") as f:\n",
    "    lines = f.readlines()\n",
    "    for line in lines[1:]:\n",
    "        line = line[:-1]\n",
    "        filename, label = line.split(',')\n",
    "        train_filenames.append(filename)\n",
    "        train_labels.append(label)\n",
    "        \n",
    "train_data = []\n",
    "for filename in train_filenames:\n",
    "    with open(f\"V1/{filename}\") as f:\n",
    "        lines = f.readlines()\n",
    "        img = []\n",
    "        for line in lines:\n",
    "            line = line.strip()\n",
    "            pixel = [float(x) for x in line.split(',')]\n",
    "\n",
    "            pixel  =np.array(pixel)\n",
    "            img.append(pixel)\n",
    "        img = img[:140]\n",
    "        \n",
    "        img = np.array(img)\n",
    "        train_data.append(img)\n",
    "    \n",
    "    \n",
    "test_filenames = []\n",
    "test_labels = []\n",
    "\n",
    "with open(\"V1/test_labels.txt\") as f:\n",
    "    lines = f.readlines()\n",
    "    for line in lines[1:]:\n",
    "        line = line[:-1]\n",
    "        filename, label = line.split(',')\n",
    "        test_filenames.append(filename)\n",
    "        test_labels.append(label)\n",
    "        \n",
    "test_data = []\n",
    "for filename in train_filenames:\n",
    "    with open(f\"V1/{filename}\") as f:\n",
    "        lines = f.readlines()\n",
    "        img = []\n",
    "        for line in lines:\n",
    "            line = line.strip()\n",
    "            pixel = [float(x) for x in line.split(',')]\n",
    "            pixel  =np.array(pixel)\n",
    "            \n",
    "            img.append(pixel)\n",
    "        \n",
    "        img = img[:140]\n",
    "        \n",
    "        img = np.array(img)\n",
    "        test_data.append(img)\n",
    "\n",
    "\n",
    "print(np.shape(train_data))\n",
    "print(np.shape(test_data))\n",
    "\n",
    "train_data = np.array(train_data)\n",
    "\n",
    "train_data = np.array(train_data)\n",
    "test_data = np.array(test_data)\n",
    "\n",
    "std_train_data = (train_data - np.mean(train_data, axis=(0, 1))) / np.std(train_data, axis=(0, 1))\n",
    "std_test_data = (test_data - np.mean(test_data, axis=(0, 1))) / np.std(test_data, axis=(0, 1))\n",
    "\n",
    "    \n",
    "    "
   ]
  },
  {
   "cell_type": "code",
   "execution_count": 37,
   "id": "9c671885f0e27941",
   "metadata": {},
   "outputs": [
    {
     "name": "stdout",
     "output_type": "stream",
     "text": [
      "(1000, 140, 3)\n",
      "(1000, 4)\n",
      "\u001b[1m32/32\u001b[0m \u001b[32m━━━━━━━━━━━━━━━━━━━━\u001b[0m\u001b[37m\u001b[0m \u001b[1m0s\u001b[0m 1ms/step - accuracy: 0.6706 - loss: 0.7614   \n",
      "\u001b[1m32/32\u001b[0m \u001b[32m━━━━━━━━━━━━━━━━━━━━\u001b[0m\u001b[37m\u001b[0m \u001b[1m0s\u001b[0m 710us/step - accuracy: 0.9558 - loss: 0.1992\n",
      "Validation accuracy: 0.953000009059906\n"
     ]
    }
   ],
   "source": [
    "import tensorflow as tf\n",
    "from tensorflow.keras.utils import to_categorical\n",
    "from tensorflow.keras.models import Sequential\n",
    "from tensorflow.keras.layers import Conv2D, MaxPooling2D, AveragePooling2D, Flatten, Dense, Dropout\n",
    "from tensorflow.keras.optimizers import Adam\n",
    "from tensorflow.keras.preprocessing.image import ImageDataGenerator\n",
    "import numpy as np\n",
    "\n",
    "\n",
    "model_train_images = std_train_data.reshape(1000, 140, 3)\n",
    "print(np.shape(model_train_images))\n",
    "model_train_labels = to_categorical(train_labels, num_classes=4)\n",
    "print(np.shape(model_train_labels))\n",
    "\n",
    "\n",
    "\n",
    "my_model = Sequential([\n",
    "    Dense(32, activation='relu', input_shape=(140, 3)),\n",
    "    Flatten(),\n",
    "    Dense(4, activation='softmax')\n",
    "])\n",
    "my_model.compile(\n",
    "    optimizer=Adam(learning_rate=0.001),\n",
    "    loss='categorical_crossentropy',\n",
    "    metrics=['accuracy']\n",
    ")\n",
    "\n",
    "my_model.fit(model_train_images, model_train_labels)\n",
    "\n",
    "loss, accuracy = my_model.evaluate(model_train_images, model_train_labels)\n",
    "print(f'Validation accuracy: {accuracy}')"
   ]
  },
  {
   "cell_type": "code",
   "execution_count": 31,
   "id": "294676204129446e",
   "metadata": {
    "ExecuteTime": {
     "end_time": "2024-06-08T09:07:18.501775Z",
     "start_time": "2024-06-08T09:07:18.495387Z"
    }
   },
   "outputs": [
    {
     "name": "stdout",
     "output_type": "stream",
     "text": [
      "\u001b[1m32/32\u001b[0m \u001b[32m━━━━━━━━━━━━━━━━━━━━\u001b[0m\u001b[37m\u001b[0m \u001b[1m0s\u001b[0m 767us/step\n"
     ]
    }
   ],
   "source": [
    "prediction = my_model.predict(std_test_data)\n",
    "with open(\"Dumitrescul_EduardValentin_subiect1_solutia1.txt\", 'w') as f:\n",
    "    for filename, pred in zip(test_filenames, prediction):\n",
    "        pred = np.argmax(pred)\n",
    "        print(f\"{filename},{pred}\", file=f)\n",
    "    "
   ]
  },
  {
   "cell_type": "code",
   "execution_count": 69,
   "id": "3fbe4e6104741a08",
   "metadata": {},
   "outputs": [
    {
     "name": "stdout",
     "output_type": "stream",
     "text": [
      "[1.4  2.75 4.1  5.45 6.8 ]\n",
      "[2 1 1 3 3 0 2 0 2 2]\n",
      "[1.4  2.75 4.1  5.45 6.8 ]\n",
      "[2 1 1 3 3 0 2 0 2 2]\n",
      "2 1\n",
      "1 1\n",
      "1 3\n",
      "3 3\n",
      "3 0\n",
      "0 2\n",
      "2 0\n",
      "0 2\n",
      "2 2\n"
     ]
    },
    {
     "ename": "TypeError",
     "evalue": "reshape() missing 1 required positional argument: 'newshape'",
     "output_type": "error",
     "traceback": [
      "\u001b[0;31m---------------------------------------------------------------------------\u001b[0m",
      "\u001b[0;31mTypeError\u001b[0m                                 Traceback (most recent call last)",
      "Cell \u001b[0;32mIn[69], line 38\u001b[0m\n\u001b[1;32m     35\u001b[0m     \u001b[38;5;28;01mreturn\u001b[39;00m x \u001b[38;5;241m+\u001b[39m y \u001b[38;5;241m+\u001b[39m z\n\u001b[1;32m     37\u001b[0m \u001b[38;5;28mprint\u001b[39m(value_to_bins(S, \u001b[38;5;241m4\u001b[39m))\n\u001b[0;32m---> 38\u001b[0m \u001b[38;5;28mprint\u001b[39m(\u001b[43mmarkov_one_dim\u001b[49m\u001b[43m(\u001b[49m\u001b[43mS\u001b[49m\u001b[43m,\u001b[49m\u001b[43m \u001b[49m\u001b[38;5;241;43m4\u001b[39;49m\u001b[43m)\u001b[49m)\n",
      "Cell \u001b[0;32mIn[69], line 24\u001b[0m, in \u001b[0;36mmarkov_one_dim\u001b[0;34m(data, k)\u001b[0m\n\u001b[1;32m     22\u001b[0m \u001b[38;5;28;01mfor\u001b[39;00m i \u001b[38;5;129;01min\u001b[39;00m \u001b[38;5;28mrange\u001b[39m(\u001b[38;5;28mlen\u001b[39m(x)):\n\u001b[1;32m     23\u001b[0m     x[i] \u001b[38;5;241m/\u001b[39m\u001b[38;5;241m=\u001b[39m np\u001b[38;5;241m.\u001b[39msum(x[i])\n\u001b[0;32m---> 24\u001b[0m x \u001b[38;5;241m=\u001b[39m \u001b[43mnp\u001b[49m\u001b[38;5;241;43m.\u001b[39;49m\u001b[43mreshape\u001b[49m\u001b[43m(\u001b[49m\u001b[38;5;241;43m-\u001b[39;49m\u001b[38;5;241;43m1\u001b[39;49m\u001b[43m)\u001b[49m\n\u001b[1;32m     25\u001b[0m \u001b[38;5;28;01mreturn\u001b[39;00m x\n",
      "\u001b[0;31mTypeError\u001b[0m: reshape() missing 1 required positional argument: 'newshape'"
     ]
    }
   ],
   "source": [
    "# EX2\n",
    "max = np.max(test_data)\n",
    "min = np.min(test_data)\n",
    "\n",
    "S = [5.2, 4.1, 3.1, 6.8, 6.8, 2.5, 5.2, 1.4, 4.2, 4.2]\n",
    "\n",
    "def value_to_bins(matrix, num_bins):\n",
    "    max = np.max(matrix)\n",
    "    min = np.min(matrix)\n",
    "    bins = np.linspace(start=min, stop=max+0.0000000000001, num=num_bins +1)\n",
    "    print(bins)\n",
    "    matrix = np.digitize(matrix, bins) - 1\n",
    "    return matrix\n",
    "\n",
    "def markov_one_dim(data, k=4):\n",
    "    arr = value_to_bins(data, k)\n",
    "    print(arr)\n",
    "    x = np.zeros((k, k))\n",
    "    for i in range(1, len(arr)):\n",
    "        print(arr[i-1], arr[i])\n",
    "        x[arr[i-1]][arr[i]] += 1\n",
    "    for i in range(len(x)):\n",
    "        x[i] /= np.sum(x[i])\n",
    "    return x\n",
    "\n",
    "def markov(data, k=4):\n",
    "    x = data[:,:0]\n",
    "    y = data[:,:,1]\n",
    "    z = data[:,:,:2]\n",
    "    x = marok_one_dim(x, k)\n",
    "    y= marok_one_dim(y, k)\n",
    "    z = marok_one_dim(z, k)\n",
    "\n",
    "    # return x + y + z\n",
    "\n",
    "print(value_to_bins(S, 4))\n",
    "print(markov_one_dim(S, 4))\n",
    "    "
   ]
  },
  {
   "cell_type": "code",
   "execution_count": null,
   "id": "ed5592e1-5720-4103-8551-6263318c243c",
   "metadata": {},
   "outputs": [],
   "source": []
  }
 ],
 "metadata": {
  "kernelspec": {
   "display_name": "Python 3 (ipykernel)",
   "language": "python",
   "name": "python3"
  },
  "language_info": {
   "codemirror_mode": {
    "name": "ipython",
    "version": 3
   },
   "file_extension": ".py",
   "mimetype": "text/x-python",
   "name": "python",
   "nbconvert_exporter": "python",
   "pygments_lexer": "ipython3",
   "version": "3.12.3"
  }
 },
 "nbformat": 4,
 "nbformat_minor": 5
}
