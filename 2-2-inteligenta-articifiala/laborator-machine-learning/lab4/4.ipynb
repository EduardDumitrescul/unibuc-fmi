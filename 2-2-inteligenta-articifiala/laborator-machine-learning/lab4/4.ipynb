{
 "cells": [
  {
   "cell_type": "code",
   "id": "initial_id",
   "metadata": {
    "collapsed": true,
    "ExecuteTime": {
     "end_time": "2024-06-07T11:24:00.911865Z",
     "start_time": "2024-06-07T11:24:00.793113Z"
    }
   },
   "source": [
    "import numpy as np\n",
    "\n",
    "def normalize_data(train_data, test_data, type=None):\n",
    "    if type is None:\n",
    "        return train_data, test_data\n",
    "    if type == \"standard\":\n",
    "        train_data = (train_data - np.mean(train_data)) / np.std(train_data)\n",
    "        test_data = (test_data - np.mean(test_data)) / np.std(test_data)\n",
    "        return train_data, test_data\n"
   ],
   "outputs": [],
   "execution_count": 1
  },
  {
   "metadata": {
    "ExecuteTime": {
     "end_time": "2024-06-07T11:34:46.299004Z",
     "start_time": "2024-06-07T11:34:46.262027Z"
    }
   },
   "cell_type": "code",
   "source": [
    "training_sentences = np.load('training_sentences.npy', allow_pickle=True)\n",
    "test_sentences = np.load('test_sentences.npy', allow_pickle=True)\n",
    "training_labels = np.load('training_labels.npy', allow_pickle=True)\n",
    "test_labels = np.load('test_labels.npy', allow_pickle=True)"
   ],
   "id": "8d6a68a316287b34",
   "outputs": [],
   "execution_count": 29
  },
  {
   "metadata": {
    "ExecuteTime": {
     "end_time": "2024-06-07T11:47:36.081057Z",
     "start_time": "2024-06-07T11:47:36.076740Z"
    }
   },
   "cell_type": "code",
   "source": [
    "class BagOfWords:\n",
    "    def __init__(self):\n",
    "        self.vocabulary = dict()\n",
    "        \n",
    "    def buildVocabulary(self, data):\n",
    "        self.vocabulary = dict()\n",
    "        words = []\n",
    "        index = 0\n",
    "        for sentence in data:\n",
    "            for word in sentence:\n",
    "                if self.vocabulary.get(word) is None:\n",
    "                    self.vocabulary[word] = index\n",
    "                    index += 1\n",
    "                    words.append(word)\n",
    "                    \n",
    "    def get_features(self, data):\n",
    "        freq = np.zeros((len(data), len(self.vocabulary)))\n",
    "        for i, sentence in enumerate(data):\n",
    "            for word in sentence:\n",
    "                if self.vocabulary.get(word) is not None:\n",
    "                    freq[i][self.vocabulary[word]] += 1     \n",
    "                \n",
    "        return freq\n",
    "                \n",
    "        "
   ],
   "id": "3fbb03da3dfca5bc",
   "outputs": [],
   "execution_count": 61
  },
  {
   "metadata": {
    "ExecuteTime": {
     "end_time": "2024-06-07T12:02:30.365065Z",
     "start_time": "2024-06-07T12:02:30.217099Z"
    }
   },
   "cell_type": "code",
   "source": [
    "bow = BagOfWords()\n",
    "bow.buildVocabulary(training_sentences)\n",
    "training_features = bow.get_features(training_sentences)\n",
    "test_features = bow.get_features(test_sentences)\n",
    "training_features, test_features = normalize_data(training_features, test_features)"
   ],
   "id": "2d8ddba28c7d8ddb",
   "outputs": [],
   "execution_count": 82
  },
  {
   "metadata": {
    "ExecuteTime": {
     "end_time": "2024-06-07T12:02:40.978826Z",
     "start_time": "2024-06-07T12:02:30.421895Z"
    }
   },
   "cell_type": "code",
   "source": [
    "from sklearn.svm import SVC\n",
    "\n",
    "svc = SVC(kernel='linear')\n",
    "svc.fit(training_features, training_labels)\n",
    "svc.score(test_features, test_labels)"
   ],
   "id": "913520678b782b1c",
   "outputs": [
    {
     "data": {
      "text/plain": [
       "0.9847826086956522"
      ]
     },
     "execution_count": 83,
     "metadata": {},
     "output_type": "execute_result"
    }
   ],
   "execution_count": 83
  },
  {
   "metadata": {
    "ExecuteTime": {
     "end_time": "2024-06-07T12:02:40.990611Z",
     "start_time": "2024-06-07T12:02:40.979857Z"
    }
   },
   "cell_type": "code",
   "source": [
    "\n",
    "feature_names = np.array(list(bow.vocabulary.keys()))\n",
    "coef = svc.coef_[0]\n",
    "top_negative_words = feature_names[coef.argsort()[:10]]\n",
    "top_positive_words = feature_names[coef.argsort()[-10:][::-1]]\n",
    "print('Primele 10 cuvinte negative (spam):', top_negative_words)\n",
    "print('Primele 10 cuvinte pozitive (non-spam):', top_positive_words)"
   ],
   "id": "1b44d956baf43eef",
   "outputs": [
    {
     "name": "stdout",
     "output_type": "stream",
     "text": [
      "Primele 10 cuvinte negative (spam): ['&lt#&gt' 'him' 'Oh' 'Waiting' 'Alright' 'me' 'Lmaonice' 'always' 'It'\n",
      " 'goal']\n",
      "Primele 10 cuvinte pozitive (non-spam): ['84484' 'ringtoneking' 'REAL' 'won' '85233' 'FREE>RingtoneReply'\n",
      " 'httptms' 'widelivecomindex' 'Txt' 'For']\n"
     ]
    }
   ],
   "execution_count": 84
  },
  {
   "metadata": {},
   "cell_type": "code",
   "outputs": [],
   "execution_count": null,
   "source": "",
   "id": "bb40ea538b37b5e2"
  },
  {
   "metadata": {},
   "cell_type": "code",
   "outputs": [],
   "execution_count": null,
   "source": "",
   "id": "9b8ad7dfc66e7c77"
  }
 ],
 "metadata": {
  "kernelspec": {
   "display_name": "Python 3",
   "language": "python",
   "name": "python3"
  },
  "language_info": {
   "codemirror_mode": {
    "name": "ipython",
    "version": 2
   },
   "file_extension": ".py",
   "mimetype": "text/x-python",
   "name": "python",
   "nbconvert_exporter": "python",
   "pygments_lexer": "ipython2",
   "version": "2.7.6"
  }
 },
 "nbformat": 4,
 "nbformat_minor": 5
}
