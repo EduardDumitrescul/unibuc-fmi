{
 "cells": [
  {
   "metadata": {
    "ExecuteTime": {
     "end_time": "2024-06-08T06:12:54.651502Z",
     "start_time": "2024-06-08T06:12:54.214462Z"
    }
   },
   "cell_type": "code",
   "source": [
    "import numpy as np\n",
    "from sklearn.linear_model import LinearRegression, Ridge, Lasso\n",
    "from sklearn.metrics import mean_squared_error, mean_absolute_error\n",
    "from sklearn.utils import shuffle"
   ],
   "id": "5d974c5250d4894b",
   "outputs": [],
   "execution_count": 1
  },
  {
   "metadata": {
    "ExecuteTime": {
     "end_time": "2024-06-08T06:12:57.041762Z",
     "start_time": "2024-06-08T06:12:57.039253Z"
    }
   },
   "cell_type": "code",
   "source": [
    "from sklearn.preprocessing import StandardScaler\n",
    "\n",
    "def normalize_data(train_data, test_data):\n",
    "    scaler = StandardScaler()\n",
    "    train_data_normalized = scaler.fit_transform(train_data)\n",
    "    test_data_normalized = scaler.transform(test_data)\n",
    "    return train_data_normalized, test_data_normalized"
   ],
   "id": "cd98da34ed775046",
   "outputs": [],
   "execution_count": 2
  },
  {
   "metadata": {
    "ExecuteTime": {
     "end_time": "2024-06-08T06:12:57.264969Z",
     "start_time": "2024-06-08T06:12:57.258411Z"
    }
   },
   "cell_type": "code",
   "source": [
    "training_data = np.load('data/training_data.npy')\n",
    "prices = np.load('data/prices.npy')\n",
    "# print('The first 4 samples are:\\n ', training_data[:4])\n",
    "# print('The first 4 prices are:\\n ', prices[:4])\n",
    "# shuffle\n",
    "training_data, prices = shuffle(training_data, prices, random_state=0)\n",
    "\n",
    "training_data, \n"
   ],
   "id": "fb38dfbb4919ad30",
   "outputs": [
    {
     "data": {
      "text/plain": [
       "(array([[2.0170e+03, 1.8351e+04, 2.1900e+01, ..., 0.0000e+00, 0.0000e+00,\n",
       "         1.0000e+00],\n",
       "        [2.0150e+03, 9.1000e+04, 2.1100e+01, ..., 0.0000e+00, 1.0000e+00,\n",
       "         0.0000e+00],\n",
       "        [2.0180e+03, 2.0667e+04, 1.8900e+01, ..., 0.0000e+00, 0.0000e+00,\n",
       "         1.0000e+00],\n",
       "        ...,\n",
       "        [2.0080e+03, 5.6230e+04, 1.7500e+01, ..., 0.0000e+00, 1.0000e+00,\n",
       "         0.0000e+00],\n",
       "        [2.0130e+03, 6.0000e+04, 1.9640e+01, ..., 0.0000e+00, 1.0000e+00,\n",
       "         0.0000e+00],\n",
       "        [2.0130e+03, 7.0000e+03, 1.7970e+01, ..., 0.0000e+00, 0.0000e+00,\n",
       "         1.0000e+00]], dtype=float32),)"
      ]
     },
     "execution_count": 3,
     "metadata": {},
     "output_type": "execute_result"
    }
   ],
   "execution_count": 3
  },
  {
   "metadata": {},
   "cell_type": "code",
   "outputs": [],
   "execution_count": null,
   "source": "",
   "id": "cabf3cd6391c2106"
  }
 ],
 "metadata": {
  "kernelspec": {
   "display_name": "Python 3",
   "language": "python",
   "name": "python3"
  },
  "language_info": {
   "codemirror_mode": {
    "name": "ipython",
    "version": 2
   },
   "file_extension": ".py",
   "mimetype": "text/x-python",
   "name": "python",
   "nbconvert_exporter": "python",
   "pygments_lexer": "ipython2",
   "version": "2.7.6"
  }
 },
 "nbformat": 4,
 "nbformat_minor": 5
}
