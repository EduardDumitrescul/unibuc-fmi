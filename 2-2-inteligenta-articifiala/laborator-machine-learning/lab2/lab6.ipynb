{
 "cells": [
  {
   "cell_type": "markdown",
   "source": [
    "## Imports"
   ],
   "metadata": {
    "collapsed": false
   },
   "id": "48bcbf27a3ccf5f3"
  },
  {
   "cell_type": "code",
   "execution_count": 1,
   "id": "initial_id",
   "metadata": {
    "collapsed": true,
    "ExecuteTime": {
     "end_time": "2024-05-29T04:55:58.287220900Z",
     "start_time": "2024-05-29T04:55:15.729017600Z"
    }
   },
   "outputs": [
    {
     "name": "stdout",
     "output_type": "stream",
     "text": [
      "2.16.1\n",
      "[PhysicalDevice(name='/physical_device:CPU:0', device_type='CPU')]\n",
      "3.3.3\n"
     ]
    }
   ],
   "source": [
    "import numpy as np\n",
    "import matplotlib.pyplot as plt\n",
    "from sklearn.neighbors import KNeighborsClassifier\n",
    "import tensorflow as tf\n",
    "from tensorflow import keras\n",
    "from keras.src.layers import BatchNormalization\n",
    "from keras.models import Sequential\n",
    "from keras.layers import LSTM\n",
    "from keras.layers import Dropout\n",
    "from keras.layers import Dense\n",
    "from keras.layers import TimeDistributed\n",
    "\n",
    "from keras import optimizers\n",
    "from keras.callbacks import History\n",
    "from keras.models import Model\n",
    "from keras.layers import Dense, Dropout, LSTM, Input, Activation, concatenate\n",
    "print(tf.__version__)\n",
    "print(tf.config.list_physical_devices('CPU'))\n",
    "print(keras.__version__)"
   ]
  },
  {
   "cell_type": "markdown",
   "source": [
    "## Data Loading"
   ],
   "metadata": {
    "collapsed": false
   },
   "id": "9f3f9aabd0f5247f"
  },
  {
   "cell_type": "code",
   "execution_count": 2,
   "outputs": [],
   "source": [
    "converter = lambda x: int(float(x))\n",
    "\n",
    "train_images = np.loadtxt('data/train_images.txt')\n",
    "train_labels = np.loadtxt('data/train_labels.txt', 'int', converters={0: converter})\n",
    "test_images = np.loadtxt('data/test_images.txt')\n",
    "test_labels = np.loadtxt('data/test_labels.txt', 'int', converters={0: converter})"
   ],
   "metadata": {
    "collapsed": false,
    "ExecuteTime": {
     "end_time": "2024-05-29T04:56:12.789903Z",
     "start_time": "2024-05-29T04:56:12.165254200Z"
    }
   },
   "id": "d49abf739e61cf1d"
  },
  {
   "cell_type": "markdown",
   "source": [
    "## Data Processing"
   ],
   "metadata": {
    "collapsed": false
   },
   "id": "1317c3f49c2229ca"
  },
  {
   "cell_type": "code",
   "execution_count": 15,
   "outputs": [
    {
     "name": "stdout",
     "output_type": "stream",
     "text": [
      "(1000, 784)\n",
      "(1000,)\n",
      "(500, 784)\n",
      "(500,)\n"
     ]
    }
   ],
   "source": [
    "def normalize_data(matrix):\n",
    "    mean = np.mean(matrix, axis=1, keepdims=True)\n",
    "    std = np.std(matrix, axis=1, keepdims=True)\n",
    "    return np.divide(np.subtract(matrix, mean), std)\n",
    "\n",
    "train_images_normalized = normalize_data(train_images)\n",
    "test_images_normalized = normalize_data(test_images)\n",
    "\n",
    "print(train_images_normalized.shape)\n",
    "print(train_labels.shape)\n",
    "print(test_images_normalized.shape)\n",
    "print(test_labels.shape)"
   ],
   "metadata": {
    "collapsed": false,
    "ExecuteTime": {
     "end_time": "2024-05-29T05:24:52.008692100Z",
     "start_time": "2024-05-29T05:24:51.976897600Z"
    }
   },
   "id": "82f2e2c242c2a26e"
  },
  {
   "cell_type": "markdown",
   "source": [
    "## Model"
   ],
   "metadata": {
    "collapsed": false
   },
   "id": "e1948f2f73c8b91b"
  },
  {
   "cell_type": "code",
   "execution_count": null,
   "outputs": [],
   "source": [],
   "metadata": {
    "collapsed": false
   },
   "id": "def8f198db710110"
  }
 ],
 "metadata": {
  "kernelspec": {
   "display_name": "Python 3",
   "language": "python",
   "name": "python3"
  },
  "language_info": {
   "codemirror_mode": {
    "name": "ipython",
    "version": 2
   },
   "file_extension": ".py",
   "mimetype": "text/x-python",
   "name": "python",
   "nbconvert_exporter": "python",
   "pygments_lexer": "ipython2",
   "version": "2.7.6"
  }
 },
 "nbformat": 4,
 "nbformat_minor": 5
}
