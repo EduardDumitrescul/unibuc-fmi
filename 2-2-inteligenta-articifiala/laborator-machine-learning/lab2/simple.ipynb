{
 "cells": [
  {
   "cell_type": "code",
   "execution_count": 1,
   "id": "78685dee-5efb-417d-b767-b0104bb85275",
   "metadata": {},
   "outputs": [],
   "source": [
    "import numpy as np\n",
    "from PIL import Image\n",
    "import pandas as pd\n",
    "import os\n"
   ]
  },
  {
   "cell_type": "code",
   "execution_count": 2,
   "id": "9047dfbe-07fe-43ca-af8c-2918374dfc58",
   "metadata": {},
   "outputs": [
    {
     "name": "stdout",
     "output_type": "stream",
     "text": [
      "Training: (10500, 80, 80, 3) - (10500,)\n",
      "Validation: (3000, 80, 80, 3) - (3000,)\n",
      "Test: (4500, 80, 80, 3) - (4500,)\n",
      "CPU times: user 4.37 s, sys: 573 ms, total: 4.94 s\n",
      "Wall time: 4.94 s\n"
     ]
    }
   ],
   "source": [
    "%%time\n",
    "\n",
    "# Loads filenames, images and labels \n",
    "# Reshapes images to (80, 80, 3)\n",
    "\n",
    "def load_data(name):\n",
    "    df = pd.read_csv(name + '.csv')\n",
    "    df_sorted = df.sort_values(by='image_id')\n",
    "\n",
    "    labelDict = dict()\n",
    "    labels = df_sorted.values\n",
    "    for entry in labels:\n",
    "        try:\n",
    "            labelDict[entry[0]] = entry[1]\n",
    "        except:\n",
    "            labelDict[entry[0]] = 0\n",
    "\n",
    "    images = []\n",
    "    labels = []\n",
    "    filenames = []\n",
    "    for filename in os.listdir(name):\n",
    "        if filename.endswith('.png'):\n",
    "            file_path = os.path.join(name, filename)\n",
    "            image = Image.open(file_path)\n",
    "            image_array = np.array(image)\n",
    "            if filename[:-4] in labelDict.keys():\n",
    "                filenames.append(filename[:-4])\n",
    "                images.append(image_array)\n",
    "                labels.append(labelDict[filename[:-4]])\n",
    "\n",
    "    for i in range(len(images)):\n",
    "        if images[i].shape != (80, 80, 3):\n",
    "            images[i] = np.stack((images[i], images[i], images[i]), axis=-1)\n",
    "\n",
    "    images = np.array(images)\n",
    "    labels = np.array(labels)\n",
    "\n",
    "    return filenames, images, labels\n",
    "\n",
    "training_filenames, training_images, training_labels = load_data(\"train\")\n",
    "print(f\"Training: {np.shape(training_images)} - {np.shape(training_labels)}\")\n",
    "\n",
    "validation_filenames, validation_images, validation_labels = load_data(\"validation\")\n",
    "print(f\"Validation: {np.shape(validation_images)} - {np.shape(validation_labels)}\")\n",
    "\n",
    "test_filenames, test_images, test_labels = load_data(\"test\")\n",
    "print(f\"Test: {np.shape(test_images)} - {np.shape(test_labels)}\")"
   ]
  },
  {
   "cell_type": "code",
   "execution_count": 5,
   "id": "c9600bfa-30a8-47b7-892e-fd3105637e78",
   "metadata": {
    "scrolled": true
   },
   "outputs": [],
   "source": [
    "# Standardize images\n",
    "\n",
    "standard_training_images = (training_images - np.mean(training_images, axis=(0, 1, 2)))  / np.std(training_images, axis=(0, 1, 2))\n",
    "standard_validation_images = (validation_images - np.mean(validation_images, axis=(0, 1, 2)))  / np.std(validation_images, axis=(0, 1, 2))\n",
    "standard_test_images = (test_images - np.mean(test_images, axis=(0, 1, 2)))  / np.std(test_images, axis=(0, 1, 2))"
   ]
  },
  {
   "cell_type": "code",
   "execution_count": null,
   "id": "c7e65ddc-c356-4c9a-9b21-28edb393d755",
   "metadata": {},
   "outputs": [],
   "source": [
    "def to_grayscale(images):\n",
    "    return np.mean(images, axis=(3))\n",
    "\n",
    "gray_training_images = to_grayscale(training_images)\n",
    "gray_validation_images = to_grayscale(validation_images)\n",
    "gray_test_images = to_grayscale(test_images)"
   ]
  },
  {
   "cell_type": "code",
   "execution_count": 3,
   "id": "71d6db11-2ae4-41a6-bbd1-008d41616c30",
   "metadata": {},
   "outputs": [
    {
     "ename": "NameError",
     "evalue": "name 'mono_training_images' is not defined",
     "output_type": "error",
     "traceback": [
      "\u001b[0;31m---------------------------------------------------------------------------\u001b[0m",
      "\u001b[0;31mNameError\u001b[0m                                 Traceback (most recent call last)",
      "Cell \u001b[0;32mIn[3], line 8\u001b[0m\n\u001b[1;32m      5\u001b[0m         count \u001b[38;5;241m+\u001b[39m\u001b[38;5;241m=\u001b[39m \u001b[38;5;241m1\u001b[39m\n\u001b[1;32m      6\u001b[0m     \u001b[38;5;28mprint\u001b[39m(count)\n\u001b[0;32m----> 8\u001b[0m save_images_by_label(training_filenames, \u001b[43mmono_training_images\u001b[49m, training_labels, \u001b[38;5;124m\"\u001b[39m\u001b[38;5;124mmono-train\u001b[39m\u001b[38;5;124m\"\u001b[39m)\n",
      "\u001b[0;31mNameError\u001b[0m: name 'mono_training_images' is not defined"
     ]
    }
   ],
   "source": [
    "def save_images_by_label(filenames, images, labels, name):\n",
    "    count = 0;\n",
    "    for filename, image, label in zip(filenames, images, labels):\n",
    "        Image.fromarray(image.astype(np.uint8)).save(f\"{name}{str(label)}/{filename}.png\")\n",
    "        count += 1\n",
    "    print(count)\n",
    "\n",
    "save_images_by_label(training_filenames, mono_training_images, training_labels, \"mono-train\")"
   ]
  },
  {
   "cell_type": "code",
   "execution_count": null,
   "id": "25e31443-3b6d-433d-9224-c43db531c159",
   "metadata": {
    "scrolled": true
   },
   "outputs": [],
   "source": [
    "# Keep only the strongest color for each pixel\n",
    "def keep_strongest_color(rgb) :\n",
    "    c = np.argmax(rgb)\n",
    "    for i in range(3):\n",
    "        if i != c:\n",
    "            rgb[i] = 0\n",
    "    return rgb\n",
    "\n",
    "def process_images(images):\n",
    "    for i in range(len(images)):\n",
    "        if i % 500 == 0:\n",
    "            print(i)\n",
    "        for j in range(len(images[i])):\n",
    "            for k in range(len(images[i][j])):\n",
    "                images[i][j][k] = keep_strongest_color(images[i][j][k])\n",
    "    return images\n",
    "mono_training_images = process_images(training_images[:1000])\n",
    "mino_validation_images = process_images(validation_images[:1000])\n",
    "mono_test_images = process_images(test_images[:1000])\n",
    "    "
   ]
  },
  {
   "cell_type": "code",
   "execution_count": null,
   "id": "5f1b7db1-06fa-4e1b-882a-d0823dab7056",
   "metadata": {},
   "outputs": [],
   "source": [
    "def print_images(images, labels, count, cmap=None, title=\"title\"):\n",
    "    for i in range(count):\n",
    "        plt.imshow(images[i], cmap=cmap)\n",
    "        plt.title(f'Label: {labels[i]}')\n",
    "        plt.show()\n",
    "\n",
    "        img = images[i]\n",
    "        # mins = np.min(img, axis=(0, 1))\n",
    "        # maxs = np.max(img, axis=(0, 1))\n",
    "        # img = (img - mins) / (maxs - mins) * 255.0\n",
    "        Image.fromarray(img.astype(np.uint8)).save(f\"documentation/plots/{title}-{labels[i]}-{str(i)}.png\")"
   ]
  },
  {
   "cell_type": "code",
   "execution_count": null,
   "id": "5dc8633b-ec01-417c-958f-48190b89241c",
   "metadata": {
    "scrolled": true
   },
   "outputs": [],
   "source": [
    "print_images(standard_training_images, training_labels, 5, title=\"standard\")"
   ]
  },
  {
   "cell_type": "code",
   "execution_count": null,
   "id": "570ac894-c4ca-4e79-afcb-ef24dce73fd0",
   "metadata": {
    "scrolled": true
   },
   "outputs": [],
   "source": [
    "\n",
    "print_images(gray_training_images, training_labels, 5, cmap='gray', title=\"gray\")"
   ]
  },
  {
   "cell_type": "code",
   "execution_count": null,
   "id": "4c4e95b0-e668-4ce8-82eb-7ef5443df9d2",
   "metadata": {
    "scrolled": true
   },
   "outputs": [],
   "source": [
    "\n",
    "print_images(mono_training_images, training_labels, 5, title=\"mono\")"
   ]
  },
  {
   "cell_type": "code",
   "execution_count": null,
   "id": "5aef7f8d-8297-48c1-ab1c-a7e697e8ace8",
   "metadata": {},
   "outputs": [],
   "source": [
    "%%time\n",
    "from sklearn.preprocessing import MinMaxScaler\n",
    "\n",
    "scaler = MinMaxScaler()\n",
    "flat_training_images = scaler.fit_transform(mono_training_images.reshape((10500, 80*80*3)))\n",
    "flat_validation_images = scaler.fit_transform(mino_validation_images.reshape((3000, 80*80*3)))\n",
    "\n",
    "\n",
    "from sklearn.naive_bayes import MultinomialNB\n",
    "mnb = MultinomialNB().fit(flat_training_images, training_labels)\n",
    "score = str(mnb.score(flat_validation_images, validation_labels))\n",
    "print(\"score on test: \" + str(score))"
   ]
  },
  {
   "cell_type": "code",
   "execution_count": null,
   "id": "a09a3497-18b6-45dc-8d40-384cf167d5b5",
   "metadata": {},
   "outputs": [
    {
     "data": {
      "text/html": [
       "<pre style=\"white-space:pre;overflow-x:auto;line-height:normal;font-family:Menlo,'DejaVu Sans Mono',consolas,'Courier New',monospace\"><span style=\"font-weight: bold\">Model: \"sequential_24\"</span>\n",
       "</pre>\n"
      ],
      "text/plain": [
       "\u001b[1mModel: \"sequential_24\"\u001b[0m\n"
      ]
     },
     "metadata": {},
     "output_type": "display_data"
    },
    {
     "data": {
      "text/html": [
       "<pre style=\"white-space:pre;overflow-x:auto;line-height:normal;font-family:Menlo,'DejaVu Sans Mono',consolas,'Courier New',monospace\">┏━━━━━━━━━━━━━━━━━━━━━━━━━━━━━━━━━┳━━━━━━━━━━━━━━━━━━━━━━━━┳━━━━━━━━━━━━━━━┓\n",
       "┃<span style=\"font-weight: bold\"> Layer (type)                    </span>┃<span style=\"font-weight: bold\"> Output Shape           </span>┃<span style=\"font-weight: bold\">       Param # </span>┃\n",
       "┡━━━━━━━━━━━━━━━━━━━━━━━━━━━━━━━━━╇━━━━━━━━━━━━━━━━━━━━━━━━╇━━━━━━━━━━━━━━━┩\n",
       "│ conv2d_119 (<span style=\"color: #0087ff; text-decoration-color: #0087ff\">Conv2D</span>)             │ (<span style=\"color: #00d7ff; text-decoration-color: #00d7ff\">None</span>, <span style=\"color: #00af00; text-decoration-color: #00af00\">78</span>, <span style=\"color: #00af00; text-decoration-color: #00af00\">78</span>, <span style=\"color: #00af00; text-decoration-color: #00af00\">64</span>)     │         <span style=\"color: #00af00; text-decoration-color: #00af00\">1,792</span> │\n",
       "├─────────────────────────────────┼────────────────────────┼───────────────┤\n",
       "│ conv2d_120 (<span style=\"color: #0087ff; text-decoration-color: #0087ff\">Conv2D</span>)             │ (<span style=\"color: #00d7ff; text-decoration-color: #00d7ff\">None</span>, <span style=\"color: #00af00; text-decoration-color: #00af00\">76</span>, <span style=\"color: #00af00; text-decoration-color: #00af00\">76</span>, <span style=\"color: #00af00; text-decoration-color: #00af00\">64</span>)     │        <span style=\"color: #00af00; text-decoration-color: #00af00\">36,928</span> │\n",
       "├─────────────────────────────────┼────────────────────────┼───────────────┤\n",
       "│ max_pooling2d_53 (<span style=\"color: #0087ff; text-decoration-color: #0087ff\">MaxPooling2D</span>) │ (<span style=\"color: #00d7ff; text-decoration-color: #00d7ff\">None</span>, <span style=\"color: #00af00; text-decoration-color: #00af00\">38</span>, <span style=\"color: #00af00; text-decoration-color: #00af00\">38</span>, <span style=\"color: #00af00; text-decoration-color: #00af00\">64</span>)     │             <span style=\"color: #00af00; text-decoration-color: #00af00\">0</span> │\n",
       "├─────────────────────────────────┼────────────────────────┼───────────────┤\n",
       "│ conv2d_121 (<span style=\"color: #0087ff; text-decoration-color: #0087ff\">Conv2D</span>)             │ (<span style=\"color: #00d7ff; text-decoration-color: #00d7ff\">None</span>, <span style=\"color: #00af00; text-decoration-color: #00af00\">36</span>, <span style=\"color: #00af00; text-decoration-color: #00af00\">36</span>, <span style=\"color: #00af00; text-decoration-color: #00af00\">64</span>)     │        <span style=\"color: #00af00; text-decoration-color: #00af00\">36,928</span> │\n",
       "├─────────────────────────────────┼────────────────────────┼───────────────┤\n",
       "│ max_pooling2d_54 (<span style=\"color: #0087ff; text-decoration-color: #0087ff\">MaxPooling2D</span>) │ (<span style=\"color: #00d7ff; text-decoration-color: #00d7ff\">None</span>, <span style=\"color: #00af00; text-decoration-color: #00af00\">18</span>, <span style=\"color: #00af00; text-decoration-color: #00af00\">18</span>, <span style=\"color: #00af00; text-decoration-color: #00af00\">64</span>)     │             <span style=\"color: #00af00; text-decoration-color: #00af00\">0</span> │\n",
       "├─────────────────────────────────┼────────────────────────┼───────────────┤\n",
       "│ conv2d_122 (<span style=\"color: #0087ff; text-decoration-color: #0087ff\">Conv2D</span>)             │ (<span style=\"color: #00d7ff; text-decoration-color: #00d7ff\">None</span>, <span style=\"color: #00af00; text-decoration-color: #00af00\">16</span>, <span style=\"color: #00af00; text-decoration-color: #00af00\">16</span>, <span style=\"color: #00af00; text-decoration-color: #00af00\">128</span>)    │        <span style=\"color: #00af00; text-decoration-color: #00af00\">73,856</span> │\n",
       "├─────────────────────────────────┼────────────────────────┼───────────────┤\n",
       "│ max_pooling2d_55 (<span style=\"color: #0087ff; text-decoration-color: #0087ff\">MaxPooling2D</span>) │ (<span style=\"color: #00d7ff; text-decoration-color: #00d7ff\">None</span>, <span style=\"color: #00af00; text-decoration-color: #00af00\">8</span>, <span style=\"color: #00af00; text-decoration-color: #00af00\">8</span>, <span style=\"color: #00af00; text-decoration-color: #00af00\">128</span>)      │             <span style=\"color: #00af00; text-decoration-color: #00af00\">0</span> │\n",
       "├─────────────────────────────────┼────────────────────────┼───────────────┤\n",
       "│ conv2d_123 (<span style=\"color: #0087ff; text-decoration-color: #0087ff\">Conv2D</span>)             │ (<span style=\"color: #00d7ff; text-decoration-color: #00d7ff\">None</span>, <span style=\"color: #00af00; text-decoration-color: #00af00\">6</span>, <span style=\"color: #00af00; text-decoration-color: #00af00\">6</span>, <span style=\"color: #00af00; text-decoration-color: #00af00\">128</span>)      │       <span style=\"color: #00af00; text-decoration-color: #00af00\">147,584</span> │\n",
       "├─────────────────────────────────┼────────────────────────┼───────────────┤\n",
       "│ flatten_22 (<span style=\"color: #0087ff; text-decoration-color: #0087ff\">Flatten</span>)            │ (<span style=\"color: #00d7ff; text-decoration-color: #00d7ff\">None</span>, <span style=\"color: #00af00; text-decoration-color: #00af00\">4608</span>)           │             <span style=\"color: #00af00; text-decoration-color: #00af00\">0</span> │\n",
       "├─────────────────────────────────┼────────────────────────┼───────────────┤\n",
       "│ dense_48 (<span style=\"color: #0087ff; text-decoration-color: #0087ff\">Dense</span>)                │ (<span style=\"color: #00d7ff; text-decoration-color: #00d7ff\">None</span>, <span style=\"color: #00af00; text-decoration-color: #00af00\">512</span>)            │     <span style=\"color: #00af00; text-decoration-color: #00af00\">2,359,808</span> │\n",
       "├─────────────────────────────────┼────────────────────────┼───────────────┤\n",
       "│ dropout_7 (<span style=\"color: #0087ff; text-decoration-color: #0087ff\">Dropout</span>)             │ (<span style=\"color: #00d7ff; text-decoration-color: #00d7ff\">None</span>, <span style=\"color: #00af00; text-decoration-color: #00af00\">512</span>)            │             <span style=\"color: #00af00; text-decoration-color: #00af00\">0</span> │\n",
       "├─────────────────────────────────┼────────────────────────┼───────────────┤\n",
       "│ dense_49 (<span style=\"color: #0087ff; text-decoration-color: #0087ff\">Dense</span>)                │ (<span style=\"color: #00d7ff; text-decoration-color: #00d7ff\">None</span>, <span style=\"color: #00af00; text-decoration-color: #00af00\">3</span>)              │         <span style=\"color: #00af00; text-decoration-color: #00af00\">1,539</span> │\n",
       "└─────────────────────────────────┴────────────────────────┴───────────────┘\n",
       "</pre>\n"
      ],
      "text/plain": [
       "┏━━━━━━━━━━━━━━━━━━━━━━━━━━━━━━━━━┳━━━━━━━━━━━━━━━━━━━━━━━━┳━━━━━━━━━━━━━━━┓\n",
       "┃\u001b[1m \u001b[0m\u001b[1mLayer (type)                   \u001b[0m\u001b[1m \u001b[0m┃\u001b[1m \u001b[0m\u001b[1mOutput Shape          \u001b[0m\u001b[1m \u001b[0m┃\u001b[1m \u001b[0m\u001b[1m      Param #\u001b[0m\u001b[1m \u001b[0m┃\n",
       "┡━━━━━━━━━━━━━━━━━━━━━━━━━━━━━━━━━╇━━━━━━━━━━━━━━━━━━━━━━━━╇━━━━━━━━━━━━━━━┩\n",
       "│ conv2d_119 (\u001b[38;5;33mConv2D\u001b[0m)             │ (\u001b[38;5;45mNone\u001b[0m, \u001b[38;5;34m78\u001b[0m, \u001b[38;5;34m78\u001b[0m, \u001b[38;5;34m64\u001b[0m)     │         \u001b[38;5;34m1,792\u001b[0m │\n",
       "├─────────────────────────────────┼────────────────────────┼───────────────┤\n",
       "│ conv2d_120 (\u001b[38;5;33mConv2D\u001b[0m)             │ (\u001b[38;5;45mNone\u001b[0m, \u001b[38;5;34m76\u001b[0m, \u001b[38;5;34m76\u001b[0m, \u001b[38;5;34m64\u001b[0m)     │        \u001b[38;5;34m36,928\u001b[0m │\n",
       "├─────────────────────────────────┼────────────────────────┼───────────────┤\n",
       "│ max_pooling2d_53 (\u001b[38;5;33mMaxPooling2D\u001b[0m) │ (\u001b[38;5;45mNone\u001b[0m, \u001b[38;5;34m38\u001b[0m, \u001b[38;5;34m38\u001b[0m, \u001b[38;5;34m64\u001b[0m)     │             \u001b[38;5;34m0\u001b[0m │\n",
       "├─────────────────────────────────┼────────────────────────┼───────────────┤\n",
       "│ conv2d_121 (\u001b[38;5;33mConv2D\u001b[0m)             │ (\u001b[38;5;45mNone\u001b[0m, \u001b[38;5;34m36\u001b[0m, \u001b[38;5;34m36\u001b[0m, \u001b[38;5;34m64\u001b[0m)     │        \u001b[38;5;34m36,928\u001b[0m │\n",
       "├─────────────────────────────────┼────────────────────────┼───────────────┤\n",
       "│ max_pooling2d_54 (\u001b[38;5;33mMaxPooling2D\u001b[0m) │ (\u001b[38;5;45mNone\u001b[0m, \u001b[38;5;34m18\u001b[0m, \u001b[38;5;34m18\u001b[0m, \u001b[38;5;34m64\u001b[0m)     │             \u001b[38;5;34m0\u001b[0m │\n",
       "├─────────────────────────────────┼────────────────────────┼───────────────┤\n",
       "│ conv2d_122 (\u001b[38;5;33mConv2D\u001b[0m)             │ (\u001b[38;5;45mNone\u001b[0m, \u001b[38;5;34m16\u001b[0m, \u001b[38;5;34m16\u001b[0m, \u001b[38;5;34m128\u001b[0m)    │        \u001b[38;5;34m73,856\u001b[0m │\n",
       "├─────────────────────────────────┼────────────────────────┼───────────────┤\n",
       "│ max_pooling2d_55 (\u001b[38;5;33mMaxPooling2D\u001b[0m) │ (\u001b[38;5;45mNone\u001b[0m, \u001b[38;5;34m8\u001b[0m, \u001b[38;5;34m8\u001b[0m, \u001b[38;5;34m128\u001b[0m)      │             \u001b[38;5;34m0\u001b[0m │\n",
       "├─────────────────────────────────┼────────────────────────┼───────────────┤\n",
       "│ conv2d_123 (\u001b[38;5;33mConv2D\u001b[0m)             │ (\u001b[38;5;45mNone\u001b[0m, \u001b[38;5;34m6\u001b[0m, \u001b[38;5;34m6\u001b[0m, \u001b[38;5;34m128\u001b[0m)      │       \u001b[38;5;34m147,584\u001b[0m │\n",
       "├─────────────────────────────────┼────────────────────────┼───────────────┤\n",
       "│ flatten_22 (\u001b[38;5;33mFlatten\u001b[0m)            │ (\u001b[38;5;45mNone\u001b[0m, \u001b[38;5;34m4608\u001b[0m)           │             \u001b[38;5;34m0\u001b[0m │\n",
       "├─────────────────────────────────┼────────────────────────┼───────────────┤\n",
       "│ dense_48 (\u001b[38;5;33mDense\u001b[0m)                │ (\u001b[38;5;45mNone\u001b[0m, \u001b[38;5;34m512\u001b[0m)            │     \u001b[38;5;34m2,359,808\u001b[0m │\n",
       "├─────────────────────────────────┼────────────────────────┼───────────────┤\n",
       "│ dropout_7 (\u001b[38;5;33mDropout\u001b[0m)             │ (\u001b[38;5;45mNone\u001b[0m, \u001b[38;5;34m512\u001b[0m)            │             \u001b[38;5;34m0\u001b[0m │\n",
       "├─────────────────────────────────┼────────────────────────┼───────────────┤\n",
       "│ dense_49 (\u001b[38;5;33mDense\u001b[0m)                │ (\u001b[38;5;45mNone\u001b[0m, \u001b[38;5;34m3\u001b[0m)              │         \u001b[38;5;34m1,539\u001b[0m │\n",
       "└─────────────────────────────────┴────────────────────────┴───────────────┘\n"
      ]
     },
     "metadata": {},
     "output_type": "display_data"
    },
    {
     "data": {
      "text/html": [
       "<pre style=\"white-space:pre;overflow-x:auto;line-height:normal;font-family:Menlo,'DejaVu Sans Mono',consolas,'Courier New',monospace\"><span style=\"font-weight: bold\"> Total params: </span><span style=\"color: #00af00; text-decoration-color: #00af00\">2,658,435</span> (10.14 MB)\n",
       "</pre>\n"
      ],
      "text/plain": [
       "\u001b[1m Total params: \u001b[0m\u001b[38;5;34m2,658,435\u001b[0m (10.14 MB)\n"
      ]
     },
     "metadata": {},
     "output_type": "display_data"
    },
    {
     "data": {
      "text/html": [
       "<pre style=\"white-space:pre;overflow-x:auto;line-height:normal;font-family:Menlo,'DejaVu Sans Mono',consolas,'Courier New',monospace\"><span style=\"font-weight: bold\"> Trainable params: </span><span style=\"color: #00af00; text-decoration-color: #00af00\">2,658,435</span> (10.14 MB)\n",
       "</pre>\n"
      ],
      "text/plain": [
       "\u001b[1m Trainable params: \u001b[0m\u001b[38;5;34m2,658,435\u001b[0m (10.14 MB)\n"
      ]
     },
     "metadata": {},
     "output_type": "display_data"
    },
    {
     "data": {
      "text/html": [
       "<pre style=\"white-space:pre;overflow-x:auto;line-height:normal;font-family:Menlo,'DejaVu Sans Mono',consolas,'Courier New',monospace\"><span style=\"font-weight: bold\"> Non-trainable params: </span><span style=\"color: #00af00; text-decoration-color: #00af00\">0</span> (0.00 B)\n",
       "</pre>\n"
      ],
      "text/plain": [
       "\u001b[1m Non-trainable params: \u001b[0m\u001b[38;5;34m0\u001b[0m (0.00 B)\n"
      ]
     },
     "metadata": {},
     "output_type": "display_data"
    },
    {
     "name": "stdout",
     "output_type": "stream",
     "text": [
      "Epoch 1/30\n",
      "\u001b[1m26/32\u001b[0m \u001b[32m━━━━━━━━━━━━━━━━\u001b[0m\u001b[37m━━━━\u001b[0m \u001b[1m2s\u001b[0m 349ms/step - accuracy: 0.3575 - loss: 1.1555"
     ]
    }
   ],
   "source": [
    "import tensorflow as tf\n",
    "from tensorflow.keras.utils import to_categorical\n",
    "from tensorflow.keras.models import Sequential\n",
    "from tensorflow.keras.layers import Conv2D, MaxPooling2D, AveragePooling2D, Flatten, Dense, Dropout\n",
    "from tensorflow.keras.optimizers import Adam\n",
    "from tensorflow.keras.preprocessing.image import ImageDataGenerator\n",
    "import numpy as np\n",
    "\n",
    "model_train_images = standard_training_images[:1000]\n",
    "model_train_labels = to_categorical(training_labels[:1000], num_classes=3)\n",
    "model_validation_images = standard_validation_images[:200]\n",
    "model_validation_labels = to_categorical(validation_labels[:200], num_classes=3)\n",
    "\n",
    "trainining_datagen = ImageDataGenerator(\n",
    "    # rotation_range=10,\n",
    "    # width_shift_range=0.1,\n",
    "    # height_shift_range=0.1,\n",
    "    # shear_range=0.1,\n",
    "    # zoom_range=0.1,\n",
    "    # horizontal_flip=True,\n",
    "    # fill_mode='reflect'\n",
    ")\n",
    "trainining_datagen.fit(model_train_images)\n",
    "\n",
    "validation_datagen = ImageDataGenerator(\n",
    "    rotation_range=10,\n",
    "    # width_shift_range=0.1,\n",
    "    # height_shift_range=0.1,\n",
    "    # shear_range=0.1,\n",
    "    # zoom_range=0.1,\n",
    "    brightness_range=(0.8, 1.2),\n",
    "    horizontal_flip=True,\n",
    "    fill_mode='reflect'\n",
    ")\n",
    "validation_datagen.fit(model_validation_images)\n",
    "\n",
    "model_checkpoint_callback = tf.keras.callbacks.ModelCheckpoint(\n",
    "    filepath=\"/tmp/checkpoint.keras\",\n",
    "    monitor='val_accuracy',\n",
    "    mode='max',\n",
    "    save_best_only=True)\n",
    "\n",
    "# my_model = Sequential([\n",
    "#     Conv2D(128, (3, 3), activation='relu', input_shape=(80, 80, 3)),\n",
    "#     MaxPooling2D(2, 2),\n",
    "#     Conv2D(128, (3, 3), activation='relu'),\n",
    "#     MaxPooling2D(2, 2),\n",
    "#     Conv2D(256, (3, 3), activation='relu'),\n",
    "#     MaxPooling2D(2, 2),\n",
    "#     Conv2D(256, (3, 3), activation='relu'),\n",
    "#     Flatten(),\n",
    "#     Dense(1024, activation='relu'),\n",
    "#     Dense(3, activation='softmax')\n",
    "# ])\n",
    "my_model = Sequential([\n",
    "    Conv2D(64, (3, 3), activation='relu', input_shape=(80, 80, 3)),\n",
    "    Conv2D(64, (3, 3), activation='relu'),\n",
    "    MaxPooling2D(2, 2),\n",
    "    Conv2D(64, (3, 3), activation='relu'),\n",
    "    MaxPooling2D(2, 2),\n",
    "    Conv2D(128, (3, 3), activation='relu'),\n",
    "    MaxPooling2D(2, 2),\n",
    "    Conv2D(128, (3, 3), activation='relu'),\n",
    "    Flatten(),\n",
    "    Dense(512, activation='relu'),\n",
    "    Dropout(0.2),\n",
    "    Dense(3, activation='softmax')\n",
    "])\n",
    "my_model.compile(\n",
    "    optimizer=Adam(learning_rate=0.001),\n",
    "    loss='categorical_crossentropy',\n",
    "    metrics=['accuracy']\n",
    ")\n",
    "my_model.summary()\n",
    "\n",
    "history = my_model.fit(\n",
    "    trainining_datagen.flow(model_train_images, model_train_labels, batch_size=32),\n",
    "    epochs=30,\n",
    "    validation_data=validation_datagen.flow(model_validation_images, model_validation_labels),\n",
    "    callbacks=[model_checkpoint_callback],\n",
    ")\n",
    "\n",
    "loss, accuracy = my_model.evaluate(model_validation_images, model_validation_labels)\n",
    "print(f'Validation accuracy: {accuracy}')"
   ]
  },
  {
   "cell_type": "code",
   "execution_count": null,
   "id": "e6714010-066c-4901-b9bc-9b766fef325c",
   "metadata": {},
   "outputs": [],
   "source": [
    "%%time\n",
    "from sklearn import svm\n",
    "from sklearn.preprocessing import MinMaxScaler\n",
    "import numpy as np\n",
    "import skimage.measure\n",
    "\n",
    "reduced_training_images = (skimage.measure.block_reduce(gray_training_images, (1,2,2), np.max)).reshape((10500, 40*40))\n",
    "print(np.shape(reduced_training_images))\n",
    "reduced_validation_images = (skimage.measure.block_reduce(gray_validation_images, (1,2,2), np.max)).reshape((3000, 40*40))\n",
    "\n",
    "clf = svm.SVC(decision_function_shape='ovr', verbose=True, max_iter=-1, kernel=\"rbf\", C=1)\n",
    "clf.fit(reduced_training_images, training_labels)\n",
    "score = clf.score(reduced_validation_images, validation_labels)\n",
    "\n",
    "print(\"score on test: \" + str(score))"
   ]
  },
  {
   "cell_type": "code",
   "execution_count": 15,
   "id": "6417e743-4783-467f-9eae-153fccfa3955",
   "metadata": {},
   "outputs": [
    {
     "data": {
      "image/png": "[encoded data removed]",
      "text/plain": [
       "<Figure size 640x480 with 1 Axes>"
      ]
     },
     "metadata": {},
     "output_type": "display_data"
    }
   ],
   "source": [
    "import matplotlib.pyplot as plt\n",
    "\n",
    "plt.plot(history.history['accuracy'], label='train_accuracy')\n",
    "plt.plot(history.history['val_accuracy'], label='val_accuracy')\n",
    "plt.plot(history.history['loss'], label='train_loss')\n",
    "plt.plot(history.history['val_loss'], label='val_loss')\n",
    "plt.legend()\n",
    "plt.savefig(\"documentation/plots/cnn-1-3\")\n",
    "plt.show()"
   ]
  },
  {
   "cell_type": "code",
   "execution_count": 16,
   "id": "f6afe5b3-778b-4059-b599-1a1152ef9fd2",
   "metadata": {},
   "outputs": [
    {
     "name": "stdout",
     "output_type": "stream",
     "text": [
      "\u001b[1m94/94\u001b[0m \u001b[32m━━━━━━━━━━━━━━━━━━━━\u001b[0m\u001b[37m\u001b[0m \u001b[1m1s\u001b[0m 15ms/step\n",
      "[[0.4        0.31082654 0.35772358]\n",
      " [0.25714286 0.36845169 0.29087624]\n",
      " [0.34285714 0.32072177 0.35140018]]\n"
     ]
    }
   ],
   "source": [
    "from sklearn.metrics import confusion_matrix\n",
    "\n",
    "def print_confusion_matrix(model, images, labels):\n",
    "    y_prediction = model.predict(images)\n",
    "    y_prediction = np.argmax (y_prediction, axis = 1)\n",
    "    result = confusion_matrix(labels, y_prediction , normalize='pred')\n",
    "    print(result)\n",
    "\n",
    "print_confusion_matrix(my_model, validation_images, validation_labels)"
   ]
  }
 ],
 "metadata": {
  "kernelspec": {
   "display_name": "Python 3 (ipykernel)",
   "language": "python",
   "name": "python3"
  },
  "language_info": {
   "codemirror_mode": {
    "name": "ipython",
    "version": 3
   },
   "file_extension": ".py",
   "mimetype": "text/x-python",
   "name": "python",
   "nbconvert_exporter": "python",
   "pygments_lexer": "ipython3",
   "version": "3.12.3"
  }
 },
 "nbformat": 4,
 "nbformat_minor": 5
}
