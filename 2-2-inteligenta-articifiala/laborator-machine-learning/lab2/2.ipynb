{
 "cells": [
  {
   "cell_type": "code",
   "execution_count": 41,
   "id": "9dd7413b-fc27-4542-a51c-fdc26877f299",
   "metadata": {},
   "outputs": [
    {
     "name": "stdout",
     "output_type": "stream",
     "text": [
      "0.75\n",
      "0.25\n"
     ]
    }
   ],
   "source": [
    "import numpy as np\n",
    "\n",
    "arr = [(160, 'F'), (165, 'F'), (155, 'F'), (172, 'F'), (175, 'B'), (180, 'B'), (177, 'B'), (190, 'B')]\n",
    "\n",
    "heights = [h for h, l in arr]\n",
    "labels =  [l for h, l in arr]\n",
    "\n",
    "bins = np.linspace(start=150, stop=191, num=5)\n",
    "heights = np.digitize(heights, bins) - 1\n",
    "\n",
    "\n",
    "height = 178\n",
    "height = np.digitize(height, bins) - 1\n",
    "\n",
    "unique, counts = np.unique(labels, return_counts=True)\n",
    "\n",
    "boy_count = np.sum([1 for l in labels if l == 'B'])\n",
    "girl_count = np.sum([1 for l in labels if l == 'F'])\n",
    "\n",
    "prob_boy = boy_count / len(labels)\n",
    "prob_girl = girl_count / len(labels)\n",
    "\n",
    "count_boys_height = np.sum([1 for (h, l) in zip(heights, labels) if l == 'B' and h == height])\n",
    "count_girls_height = np.sum([1 for (h, l) in zip(heights, labels) if l == 'F' and h == height])\n",
    "\n",
    "prob_boy_height = count_boys_height / boy_count\n",
    "prob_girl_height = count_girls_height / girl_count\n",
    "\n",
    "prob_height = np.sum([1 for (h, l) in zip(heights, labels) if h == height]) / len(labels)\n",
    "\n",
    "\n",
    "print(prob_boy_height * prob_boy / prob_height)\n",
    "print(prob_girl_height * prob_girl / prob_height)\n"
   ]
  },
  {
   "cell_type": "code",
   "execution_count": 43,
   "id": "38d95982-e9a2-427f-b655-87451fddf32c",
   "metadata": {},
   "outputs": [],
   "source": [
    "def values_to_bins(arr, bins):\n",
    "    ar = np.digitize(arr, bins) - 1\n",
    "    return arr"
   ]
  },
  {
   "cell_type": "code",
   "execution_count": 50,
   "id": "06e7a451-633b-4bf8-b999-3bae7b40afae",
   "metadata": {},
   "outputs": [
    {
     "name": "stdout",
     "output_type": "stream",
     "text": [
      "[[0. 0. 0. ... 0. 0. 0.]\n",
      " [0. 0. 0. ... 0. 0. 0.]\n",
      " [0. 0. 0. ... 0. 0. 0.]\n",
      " ...\n",
      " [0. 0. 0. ... 0. 0. 0.]\n",
      " [0. 0. 0. ... 0. 0. 0.]\n",
      " [0. 0. 0. ... 0. 0. 0.]]\n"
     ]
    }
   ],
   "source": [
    "import numpy as np\n",
    "import matplotlib.pyplot as plt\n",
    "train_images = np.loadtxt('data/train_images.txt') # incarcam imaginile\n",
    "train_labels = np.loadtxt('data/train_labels.txt', 'int', converters=float) \n",
    "\n",
    "test_images = np.loadtxt('data/test_images.txt') # incarcam imaginile\n",
    "test_labels = np.loadtxt('data/test_labels.txt', 'int', converters=float) \n",
    "\n",
    "num_bins = 5\n",
    "bins = np.linspace(start=0, stop = 256, num=num_bins+1)\n",
    "\n",
    "train_images = values_to_bins(train_images, bins)\n",
    "test_images = values_to_bins(test_images, bins)"
   ]
  },
  {
   "cell_type": "code",
   "execution_count": 51,
   "id": "e93d5a12-bcb9-41d1-b389-58f90fd00139",
   "metadata": {},
   "outputs": [
    {
     "data": {
      "text/plain": [
       "0.846"
      ]
     },
     "execution_count": 51,
     "metadata": {},
     "output_type": "execute_result"
    }
   ],
   "source": [
    "from sklearn.naive_bayes import MultinomialNB\n",
    "naive_bayes_model = MultinomialNB()\n",
    "naive_bayes_model.fit(train_images, train_labels)\n",
    "naive_bayes_model.score(test_images, test_labels)"
   ]
  },
  {
   "cell_type": "code",
   "execution_count": 54,
   "id": "33133750-8d71-47b0-88a5-592c2905f86d",
   "metadata": {},
   "outputs": [
    {
     "name": "stdout",
     "output_type": "stream",
     "text": [
      "[51.  0.  2.  0.  0.  1.  1.  0.  0.  0.]\n",
      "[ 0. 48.  0.  0.  0.  0.  0.  1.  1.  0.]\n",
      "[ 0.  0. 51.  1.  0.  0.  0.  0.  3.  1.]\n",
      "[ 0.  0.  1. 49.  0.  9.  0.  0.  3.  1.]\n",
      "[ 0.  0.  1.  0. 34.  0.  1.  1.  1.  5.]\n",
      "[ 0.  0.  0.  0.  0. 35.  0.  0.  1.  0.]\n",
      "[ 1.  0.  0.  0.  0.  1. 44.  0.  1.  0.]\n",
      "[ 0.  0.  1.  0.  0.  1.  0. 42.  1.  0.]\n",
      "[ 1.  4.  1.  0.  2.  5.  2.  0. 34.  0.]\n",
      "[ 0.  0.  1.  3. 10.  0.  0.  6.  1. 35.]\n"
     ]
    }
   ],
   "source": [
    "prediction = naive_bayes_model.predict(test_images)\n",
    "conf_matrix = np.zeros((10, 10))\n",
    "\n",
    "for p, l in zip(prediction, test_labels):\n",
    "    conf_matrix[p][l] += 1\n",
    "\n",
    "print(*conf_matrix, sep=\"\\n\")"
   ]
  }
 ],
 "metadata": {
  "kernelspec": {
   "display_name": "Python 3 (ipykernel)",
   "language": "python",
   "name": "python3"
  },
  "language_info": {
   "codemirror_mode": {
    "name": "ipython",
    "version": 3
   },
   "file_extension": ".py",
   "mimetype": "text/x-python",
   "name": "python",
   "nbconvert_exporter": "python",
   "pygments_lexer": "ipython3",
   "version": "3.12.3"
  }
 },
 "nbformat": 4,
 "nbformat_minor": 5
}
